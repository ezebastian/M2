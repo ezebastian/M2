{
 "cells": [
  {
   "cell_type": "markdown",
   "metadata": {},
   "source": [
    "1) Crear una variable que contenga un elemento del conjunto de números enteros y luego imprimir por pantalla si es mayor o menor a cero"
   ]
  },
  {
   "cell_type": "code",
   "execution_count": 1,
   "metadata": {},
   "outputs": [
    {
     "name": "stdout",
     "output_type": "stream",
     "text": [
      "a es menor que cero\n"
     ]
    }
   ],
   "source": [
    "a = -2\n",
    "if(a<0):\n",
    "    print('a es menor que cero')\n",
    "elif(a>0):\n",
    "    print('a es mayor que cero')\n",
    "else:\n",
    "    print('a es igual a cero')"
   ]
  },
  {
   "cell_type": "markdown",
   "metadata": {},
   "source": [
    "2) Crear dos variables y un condicional que informe si son del mismo tipo de dato"
   ]
  },
  {
   "cell_type": "code",
   "execution_count": 8,
   "metadata": {},
   "outputs": [
    {
     "name": "stdout",
     "output_type": "stream",
     "text": [
      "a y b son variables de distintos tipos de datos\n"
     ]
    }
   ],
   "source": [
    "a = 'Hola'\n",
    "b = 3\n",
    "if(type(a) == type(b)):\n",
    "    print('a y b son variables del mismo tipo de dato')\n",
    "else:\n",
    "    print('a y b son variables de distintos tipos de datos')"
   ]
  },
  {
   "cell_type": "markdown",
   "metadata": {},
   "source": [
    "3) Para los valores enteros del 1 al 20, imprimir por pantalla si es par o impar"
   ]
  },
  {
   "cell_type": "code",
   "execution_count": 11,
   "metadata": {},
   "outputs": [
    {
     "name": "stdout",
     "output_type": "stream",
     "text": [
      "el numero 0 es par\n",
      "el numero 1 es impar\n",
      "el numero 2 es par\n",
      "el numero 3 es impar\n",
      "el numero 4 es par\n",
      "el numero 5 es impar\n",
      "el numero 6 es par\n",
      "el numero 7 es impar\n",
      "el numero 8 es par\n",
      "el numero 9 es impar\n",
      "el numero 10 es par\n",
      "el numero 11 es impar\n",
      "el numero 12 es par\n",
      "el numero 13 es impar\n",
      "el numero 14 es par\n",
      "el numero 15 es impar\n",
      "el numero 16 es par\n",
      "el numero 17 es impar\n",
      "el numero 18 es par\n",
      "el numero 19 es impar\n",
      "el numero 20 es par\n"
     ]
    }
   ],
   "source": [
    "for n in range (21):\n",
    "    if(n%2 == 0):\n",
    "        print('el numero ' + str(n) + ' es par')\n",
    "    else:\n",
    "        print('el numero ' + str(n) + ' es impar')\n"
   ]
  },
  {
   "cell_type": "markdown",
   "metadata": {},
   "source": [
    "4) En un ciclo for mostrar para los valores entre 0 y 5 el resultado de elevarlo a la potencia igual a 3"
   ]
  },
  {
   "cell_type": "code",
   "execution_count": 30,
   "metadata": {},
   "outputs": [
    {
     "name": "stdout",
     "output_type": "stream",
     "text": [
      "el valor 0 elevado a la tercera potencia = 0\n",
      "el valor 1 elevado a la tercera potencia = 1\n",
      "el valor 2 elevado a la tercera potencia = 8\n",
      "el valor 3 elevado a la tercera potencia = 27\n",
      "el valor 4 elevado a la tercera potencia = 64\n",
      "el valor 5 elevado a la tercera potencia = 125\n"
     ]
    }
   ],
   "source": [
    "for n in range(6):\n",
    "    print('el valor '+ str(n) + ' elevado a la tercera potencia = ' + str(n**3))\n"
   ]
  },
  {
   "cell_type": "markdown",
   "metadata": {},
   "source": [
    "5) Crear una variable que contenga un número entero y realizar un ciclo for la misma cantidad de ciclos"
   ]
  },
  {
   "cell_type": "code",
   "execution_count": 12,
   "metadata": {},
   "outputs": [
    {
     "name": "stdout",
     "output_type": "stream",
     "text": [
      "0\n",
      "1\n",
      "2\n",
      "3\n",
      "4\n",
      "5\n",
      "6\n"
     ]
    }
   ],
   "source": [
    "a = 7\n",
    "for n in range (0,a):\n",
    "    pass\n",
    "    print(n)"
   ]
  },
  {
   "cell_type": "markdown",
   "metadata": {},
   "source": [
    "6) Utilizar un ciclo while para realizar el factorial de un número guardado en una variable, sólo si la variable contiene un número entero mayor a 0"
   ]
  },
  {
   "cell_type": "code",
   "execution_count": 17,
   "metadata": {},
   "outputs": [
    {
     "name": "stdout",
     "output_type": "stream",
     "text": [
      "el factorial es 6\n"
     ]
    }
   ],
   "source": [
    "n = 3\n",
    "if (type(n) == int):\n",
    "    if (n>0):\n",
    "        factorial = n\n",
    "        while (n>2):\n",
    "            n = n - 1\n",
    "            factorial = factorial*n\n",
    "        print ('el factorial es', str(factorial))\n",
    "    else:\n",
    "        print(str (n), 'no es mayor a cero')\n",
    "else:\n",
    "    print(str(n) , 'no es un numero entero')\n",
    "\n",
    "\n"
   ]
  },
  {
   "cell_type": "markdown",
   "metadata": {},
   "source": [
    "7) Crear un ciclo for dentro de un ciclo while"
   ]
  },
  {
   "cell_type": "code",
   "execution_count": 13,
   "metadata": {},
   "outputs": [
    {
     "name": "stdout",
     "output_type": "stream",
     "text": [
      "Ciclo while nro2\n",
      "Ciclo for nro1\n",
      "Ciclo while nro3\n",
      "Ciclo for nro1\n",
      "Ciclo while nro3\n",
      "Ciclo for nro2\n",
      "Ciclo while nro4\n",
      "Ciclo for nro1\n",
      "Ciclo while nro4\n",
      "Ciclo for nro2\n",
      "Ciclo while nro4\n",
      "Ciclo for nro3\n",
      "Ciclo while nro5\n",
      "Ciclo for nro1\n",
      "Ciclo while nro5\n",
      "Ciclo for nro2\n",
      "Ciclo while nro5\n",
      "Ciclo for nro3\n",
      "Ciclo while nro5\n",
      "Ciclo for nro4\n"
     ]
    }
   ],
   "source": [
    "n = 0\n",
    "while(n<5):\n",
    "    n += 1\n",
    "    for i in range(1,n):\n",
    "        print('Ciclo while nro' + str(n))\n",
    "        print('Ciclo for nro' + str(i))"
   ]
  },
  {
   "cell_type": "markdown",
   "metadata": {},
   "source": [
    "8) Crear un ciclo while dentro de un ciclo for"
   ]
  },
  {
   "cell_type": "code",
   "execution_count": null,
   "metadata": {},
   "outputs": [],
   "source": [
    "n = 5\n",
    "for i in range (1,n):\n",
    "    while (n<5):\n",
    "        n-=1\n",
    "        print('Ciclo while nro' + str(n))\n",
    "        print('Ciclo for nro' + str(i))\n"
   ]
  },
  {
   "cell_type": "markdown",
   "metadata": {},
   "source": [
    "9) Imprimir los números primos existentes entre 0 y 30"
   ]
  },
  {
   "cell_type": "code",
   "execution_count": null,
   "metadata": {},
   "outputs": [],
   "source": [
    "tope_rango = 30\n",
    "n = 0\n",
    "primo = True\n",
    "while (n < tope_rango):\n",
    "    for div in range(2, n):\n",
    "        if (n % div == 0):\n",
    "            primo = False\n",
    "    if (primo):\n",
    "        print(n)\n",
    "    else:\n",
    "        primo = True\n",
    "    n += 1"
   ]
  },
  {
   "cell_type": "code",
   "execution_count": 7,
   "metadata": {},
   "outputs": [
    {
     "name": "stdout",
     "output_type": "stream",
     "text": [
      "7\n"
     ]
    }
   ],
   "source": [
    "x = 5 ; y =2\n",
    "print (x +y)"
   ]
  }
 ],
 "metadata": {
  "kernelspec": {
   "display_name": "Python 3.10.7 64-bit",
   "language": "python",
   "name": "python3"
  },
  "language_info": {
   "codemirror_mode": {
    "name": "ipython",
    "version": 3
   },
   "file_extension": ".py",
   "mimetype": "text/x-python",
   "name": "python",
   "nbconvert_exporter": "python",
   "pygments_lexer": "ipython3",
   "version": "3.10.7"
  },
  "orig_nbformat": 4,
  "vscode": {
   "interpreter": {
    "hash": "3ef525aed409cc5a13783047c8d4d090b051bbc20387ad523d849e44a70e3fe1"
   }
  }
 },
 "nbformat": 4,
 "nbformat_minor": 2
}
