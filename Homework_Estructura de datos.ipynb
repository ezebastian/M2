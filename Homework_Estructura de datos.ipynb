{
 "cells": [
  {
   "cell_type": "markdown",
   "metadata": {},
   "source": [
    "1) Crear una lista que contenga nombres de ciudades del mundo que contenga más de 5 elementos e imprimir por pantalla"
   ]
  },
  {
   "cell_type": "code",
   "execution_count": 63,
   "metadata": {},
   "outputs": [
    {
     "name": "stdout",
     "output_type": "stream",
     "text": [
      "['Berlin', ' Barcelona', 'Madrid', 'Lisboa', 'Rio de Janeiro', 'Mar del plata']\n"
     ]
    }
   ],
   "source": [
    "mi_lista = ['Berlin',' Barcelona','Madrid','Lisboa','Rio de Janeiro', 'Mar del plata']\n",
    "print(mi_lista)"
   ]
  },
  {
   "cell_type": "markdown",
   "metadata": {},
   "source": [
    "2) Imprimir por pantalla el segundo elemento de la lista"
   ]
  },
  {
   "cell_type": "code",
   "execution_count": 23,
   "metadata": {},
   "outputs": [
    {
     "name": "stdout",
     "output_type": "stream",
     "text": [
      " Barcelona\n"
     ]
    }
   ],
   "source": [
    "print(mi_lista[1])"
   ]
  },
  {
   "cell_type": "markdown",
   "metadata": {},
   "source": [
    "3) Imprimir por pantalla del segundo al cuarto elemento"
   ]
  },
  {
   "cell_type": "code",
   "execution_count": 24,
   "metadata": {},
   "outputs": [
    {
     "name": "stdout",
     "output_type": "stream",
     "text": [
      "[' Barcelona', 'Madrid', 'Lisboa']\n"
     ]
    }
   ],
   "source": [
    "print(mi_lista[1:4])"
   ]
  },
  {
   "cell_type": "markdown",
   "metadata": {},
   "source": [
    "4) Visualizar el tipo de dato de la lista"
   ]
  },
  {
   "cell_type": "code",
   "execution_count": 25,
   "metadata": {},
   "outputs": [
    {
     "data": {
      "text/plain": [
       "list"
      ]
     },
     "execution_count": 25,
     "metadata": {},
     "output_type": "execute_result"
    }
   ],
   "source": [
    "type(mi_lista)"
   ]
  },
  {
   "cell_type": "markdown",
   "metadata": {},
   "source": [
    "5) Visualizar todos los elementos de la lista a partir del tercero de manera genérica, es decir, sin explicitar la posición del último elemento"
   ]
  },
  {
   "cell_type": "code",
   "execution_count": 64,
   "metadata": {},
   "outputs": [
    {
     "name": "stdout",
     "output_type": "stream",
     "text": [
      "['Madrid', 'Lisboa', 'Rio de Janeiro', 'Mar del plata']\n"
     ]
    }
   ],
   "source": [
    "print(mi_lista[2:])"
   ]
  },
  {
   "cell_type": "markdown",
   "metadata": {},
   "source": [
    "6) Visualizar los primeros 4 elementos de la lista"
   ]
  },
  {
   "cell_type": "code",
   "execution_count": 65,
   "metadata": {},
   "outputs": [
    {
     "name": "stdout",
     "output_type": "stream",
     "text": [
      "['Berlin', ' Barcelona', 'Madrid', 'Lisboa']\n"
     ]
    }
   ],
   "source": [
    "print(mi_lista[:4])"
   ]
  },
  {
   "cell_type": "markdown",
   "metadata": {},
   "source": [
    "7) Agregar una ciudad más a la lista que ya exista y otra que no ¿Arroja algún tipo de error?"
   ]
  },
  {
   "cell_type": "code",
   "execution_count": 66,
   "metadata": {},
   "outputs": [
    {
     "name": "stdout",
     "output_type": "stream",
     "text": [
      "['Berlin', ' Barcelona', 'Madrid', 'Lisboa', 'Rio de Janeiro', 'Mar del plata', 'Buenos Aires', 'Berlin']\n"
     ]
    }
   ],
   "source": [
    "mi_lista.append('Buenos Aires')\n",
    "mi_lista.append('Berlin')\n",
    "print(mi_lista)\n"
   ]
  },
  {
   "cell_type": "markdown",
   "metadata": {},
   "source": [
    "8) Agregar otra ciudad, pero en la cuarta posición"
   ]
  },
  {
   "cell_type": "code",
   "execution_count": 86,
   "metadata": {},
   "outputs": [
    {
     "name": "stdout",
     "output_type": "stream",
     "text": [
      "['Berlin', ' Barcelona', 'Madrid', 'Nueva York', 'Nueva York', 'Nueva York', 'Nueva York', 'Nueva York', 'Nueva York', 'Nueva York', 'Nueva York', 'Nueva York', 'Nueva York', 'Nueva York', 'Nueva York', 'Nueva York', 'Nueva York', 'Nueva York', 'Lisboa', 'Rio de Janeiro', 'Mar del plata', 'Buenos Aires', 'Berlin', 'Los  Angeles', 'Paris']\n"
     ]
    }
   ],
   "source": [
    "mi_lista.insert(3 ,'Nueva York')\n",
    "print(mi_lista)"
   ]
  },
  {
   "cell_type": "markdown",
   "metadata": {},
   "source": [
    "9) Concatenar otra lista a la ya creada"
   ]
  },
  {
   "cell_type": "code",
   "execution_count": 79,
   "metadata": {},
   "outputs": [
    {
     "name": "stdout",
     "output_type": "stream",
     "text": [
      "['Berlin', ' Barcelona', 'Madrid', 'Nueva York', 'Nueva York', 'Nueva York', 'Nueva York', 'Nueva York', 'Nueva York', 'Nueva York', 'Nueva York', 'Nueva York', 'Lisboa', 'Rio de Janeiro', 'Mar del plata', 'Buenos Aires', 'Berlin', 'Los  Angeles', 'Paris']\n"
     ]
    }
   ],
   "source": [
    "mi_lista.extend(['Los  Angeles' , 'Paris' ])\n",
    "print(mi_lista)"
   ]
  },
  {
   "cell_type": "markdown",
   "metadata": {},
   "source": [
    "10) Encontrar el índice de la ciudad que en el punto 7 agregamos duplicada. ¿Se nota alguna particularidad?"
   ]
  },
  {
   "cell_type": "code",
   "execution_count": 87,
   "metadata": {},
   "outputs": [
    {
     "name": "stdout",
     "output_type": "stream",
     "text": [
      "0\n"
     ]
    }
   ],
   "source": [
    "print(mi_lista.index('Berlin'))"
   ]
  },
  {
   "cell_type": "markdown",
   "metadata": {},
   "source": [
    "11) ¿Qué pasa si se busca un elemento que no existe?"
   ]
  },
  {
   "cell_type": "code",
   "execution_count": 88,
   "metadata": {},
   "outputs": [
    {
     "ename": "ValueError",
     "evalue": "'San Francisco' is not in list",
     "output_type": "error",
     "traceback": [
      "\u001b[1;31m---------------------------------------------------------------------------\u001b[0m",
      "\u001b[1;31mValueError\u001b[0m                                Traceback (most recent call last)",
      "Cell \u001b[1;32mIn [88], line 1\u001b[0m\n\u001b[1;32m----> 1\u001b[0m \u001b[39mprint\u001b[39m(mi_lista\u001b[39m.\u001b[39mindex(\u001b[39m'\u001b[39m\u001b[39mSan Francisco\u001b[39m\u001b[39m'\u001b[39m))\n",
      "\u001b[1;31mValueError\u001b[0m: 'San Francisco' is not in list"
     ]
    }
   ],
   "source": [
    "print(mi_lista.index('San Francisco'))"
   ]
  },
  {
   "cell_type": "markdown",
   "metadata": {},
   "source": [
    "12) Eliminar un elemento de la lista"
   ]
  },
  {
   "cell_type": "code",
   "execution_count": null,
   "metadata": {},
   "outputs": [],
   "source": [
    "mi_lista.remove('Mar del plata')"
   ]
  },
  {
   "cell_type": "code",
   "execution_count": 97,
   "metadata": {},
   "outputs": [
    {
     "name": "stdout",
     "output_type": "stream",
     "text": [
      "['Berlin', ' Barcelona', 'Madrid', 'Nueva York', 'Nueva York', 'Nueva York', 'Nueva York', 'Nueva York', 'Nueva York', 'Nueva York', 'Nueva York', 'Nueva York', 'Nueva York', 'Nueva York', 'Nueva York', 'Nueva York', 'Nueva York', 'Nueva York', 'Lisboa', 'Rio de Janeiro', 'Berlin', 'Los  Angeles', 'Paris']\n"
     ]
    }
   ],
   "source": [
    "print(mi_lista)"
   ]
  },
  {
   "cell_type": "markdown",
   "metadata": {},
   "source": [
    "13) ¿Qué pasa si el elemento a eliminar no existe?"
   ]
  },
  {
   "cell_type": "code",
   "execution_count": 102,
   "metadata": {},
   "outputs": [
    {
     "ename": "ValueError",
     "evalue": "list.remove(x): x not in list",
     "output_type": "error",
     "traceback": [
      "\u001b[1;31m---------------------------------------------------------------------------\u001b[0m",
      "\u001b[1;31mValueError\u001b[0m                                Traceback (most recent call last)",
      "Cell \u001b[1;32mIn [102], line 1\u001b[0m\n\u001b[1;32m----> 1\u001b[0m mi_lista\u001b[39m.\u001b[39mremove(\u001b[39m'\u001b[39m\u001b[39mSan Francisco\u001b[39m\u001b[39m'\u001b[39m)\n\u001b[0;32m      2\u001b[0m \u001b[39mprint\u001b[39m(mi_lista)\n",
      "\u001b[1;31mValueError\u001b[0m: list.remove(x): x not in list"
     ]
    }
   ],
   "source": [
    "mi_lista.remove('San Francisco')\n",
    "print(mi_lista)"
   ]
  },
  {
   "cell_type": "markdown",
   "metadata": {},
   "source": [
    "14) Extraer el úlimo elemento de la lista, guardarlo en una variable e imprimirlo"
   ]
  },
  {
   "cell_type": "code",
   "execution_count": 104,
   "metadata": {},
   "outputs": [
    {
     "name": "stdout",
     "output_type": "stream",
     "text": [
      "Los  Angeles\n"
     ]
    }
   ],
   "source": [
    "ultimo=mi_lista.pop()\n",
    "print(ultimo)"
   ]
  },
  {
   "cell_type": "markdown",
   "metadata": {},
   "source": [
    "15) Mostrar la lista multiplicada por 4"
   ]
  },
  {
   "cell_type": "code",
   "execution_count": 106,
   "metadata": {},
   "outputs": [
    {
     "name": "stdout",
     "output_type": "stream",
     "text": [
      "[['Berlin', ' Barcelona', 'Madrid', 'Nueva York', 'Nueva York', 'Nueva York', 'Nueva York', 'Nueva York', 'Nueva York', 'Nueva York', 'Nueva York', 'Nueva York', 'Nueva York', 'Nueva York', 'Nueva York', 'Nueva York', 'Nueva York', 'Nueva York', 'Lisboa', 'Rio de Janeiro', 'Berlin'], ['Berlin', ' Barcelona', 'Madrid', 'Nueva York', 'Nueva York', 'Nueva York', 'Nueva York', 'Nueva York', 'Nueva York', 'Nueva York', 'Nueva York', 'Nueva York', 'Nueva York', 'Nueva York', 'Nueva York', 'Nueva York', 'Nueva York', 'Nueva York', 'Lisboa', 'Rio de Janeiro', 'Berlin'], ['Berlin', ' Barcelona', 'Madrid', 'Nueva York', 'Nueva York', 'Nueva York', 'Nueva York', 'Nueva York', 'Nueva York', 'Nueva York', 'Nueva York', 'Nueva York', 'Nueva York', 'Nueva York', 'Nueva York', 'Nueva York', 'Nueva York', 'Nueva York', 'Lisboa', 'Rio de Janeiro', 'Berlin'], ['Berlin', ' Barcelona', 'Madrid', 'Nueva York', 'Nueva York', 'Nueva York', 'Nueva York', 'Nueva York', 'Nueva York', 'Nueva York', 'Nueva York', 'Nueva York', 'Nueva York', 'Nueva York', 'Nueva York', 'Nueva York', 'Nueva York', 'Nueva York', 'Lisboa', 'Rio de Janeiro', 'Berlin']]\n"
     ]
    }
   ],
   "source": [
    "print([mi_lista]*4)"
   ]
  },
  {
   "cell_type": "markdown",
   "metadata": {},
   "source": [
    "16) Crear una tupla que contenga los números enteros del 1 al 20"
   ]
  },
  {
   "cell_type": "code",
   "execution_count": 107,
   "metadata": {},
   "outputs": [
    {
     "name": "stdout",
     "output_type": "stream",
     "text": [
      "<class 'tuple'>\n",
      "(1, 2, 3, 4, 5, 6, 7, 8, 9, 10, 11, 12, 13, 14, 15, 16, 17, 18, 19, 20)\n"
     ]
    }
   ],
   "source": [
    "mi_tupla = (1,2,3,4,5,6,7,8,9,10,11,12,13,14,15,16,17,18,19,20)\n",
    "print(type(mi_tupla))\n",
    "print(mi_tupla)"
   ]
  },
  {
   "cell_type": "markdown",
   "metadata": {},
   "source": [
    "17) Imprimir desde el índice 10 al 15 de la tupla"
   ]
  },
  {
   "cell_type": "code",
   "execution_count": 111,
   "metadata": {},
   "outputs": [
    {
     "name": "stdout",
     "output_type": "stream",
     "text": [
      "(11, 12, 13, 14, 15, 16)\n"
     ]
    }
   ],
   "source": [
    "print(mi_tupla[10:16])"
   ]
  },
  {
   "cell_type": "markdown",
   "metadata": {},
   "source": [
    "18) Evaluar si los números 20 y 30 están dentro de la tupla"
   ]
  },
  {
   "cell_type": "code",
   "execution_count": 121,
   "metadata": {},
   "outputs": [
    {
     "name": "stdout",
     "output_type": "stream",
     "text": [
      "True\n",
      "False\n"
     ]
    }
   ],
   "source": [
    "print( 20 in mi_tupla)\n",
    "print (30 in mi_tupla)"
   ]
  },
  {
   "cell_type": "code",
   "execution_count": 122,
   "metadata": {},
   "outputs": [
    {
     "data": {
      "text/plain": [
       "0"
      ]
     },
     "execution_count": 122,
     "metadata": {},
     "output_type": "execute_result"
    }
   ],
   "source": [
    "mi_tupla.count('30')"
   ]
  },
  {
   "cell_type": "markdown",
   "metadata": {},
   "source": [
    "19) Con la lista creada en el punto 1, validar la existencia del elemento 'París' y si no existe, agregarlo. Utilizar una variable e informar lo sucedido."
   ]
  },
  {
   "cell_type": "code",
   "execution_count": 125,
   "metadata": {},
   "outputs": [
    {
     "name": "stdout",
     "output_type": "stream",
     "text": [
      "El elemento Berlin ya existía\n"
     ]
    }
   ],
   "source": [
    "elemento = 'Berlin'\n",
    "if (not(elemento in mi_lista)):\n",
    "    mi_lista.append(elemento)\n",
    "    print('Se insertó el elemento', elemento)\n",
    "else:\n",
    "    print('El elemento', elemento, 'ya existía')"
   ]
  },
  {
   "cell_type": "markdown",
   "metadata": {},
   "source": [
    "20) Mostrar la cantidad de veces que se encuentra un elemento específico dentro de la tupla y de la lista"
   ]
  },
  {
   "cell_type": "code",
   "execution_count": 126,
   "metadata": {},
   "outputs": [
    {
     "name": "stdout",
     "output_type": "stream",
     "text": [
      "1\n",
      "0\n"
     ]
    }
   ],
   "source": [
    "print(mi_tupla.count(9))\n",
    "print(mi_lista.count('Montevideo'))"
   ]
  },
  {
   "cell_type": "markdown",
   "metadata": {},
   "source": [
    "21) Convertir la tupla en una lista\n"
   ]
  },
  {
   "cell_type": "code",
   "execution_count": 128,
   "metadata": {},
   "outputs": [
    {
     "name": "stdout",
     "output_type": "stream",
     "text": [
      "[1, 2, 3, 4, 5, 6, 7, 8, 9, 10, 11, 12, 13, 14, 15, 16, 17, 18, 19, 20]\n"
     ]
    }
   ],
   "source": [
    "mi_lista1=list(mi_tupla)\n",
    "print(mi_lista1)"
   ]
  },
  {
   "cell_type": "markdown",
   "metadata": {},
   "source": [
    "22) Desempaquetar solo los primeros 3 elementos de la tupla en 3 variables"
   ]
  },
  {
   "cell_type": "code",
   "execution_count": 129,
   "metadata": {},
   "outputs": [
    {
     "name": "stdout",
     "output_type": "stream",
     "text": [
      "1\n",
      "2\n",
      "3\n"
     ]
    }
   ],
   "source": [
    "v1, v2, v3, _, _, _, _, _, _, _, _, _, _, _, _, _, _, _, _, _ = mi_tupla\n",
    "print(v1)\n",
    "print(v2)\n",
    "print(v3)"
   ]
  },
  {
   "cell_type": "markdown",
   "metadata": {},
   "source": [
    "23) Crear un diccionario utilizando la lista crada en el punto 1, asignandole la clave \"ciudad\". Agregar tambien otras claves, como puede ser \"Pais\" y \"Continente\"."
   ]
  },
  {
   "cell_type": "code",
   "execution_count": 131,
   "metadata": {},
   "outputs": [
    {
     "name": "stdout",
     "output_type": "stream",
     "text": [
      "['America', 'Europa', 'Asia', 'Africa']\n"
     ]
    }
   ],
   "source": [
    "mi_diccionario = {'ciudades':['Berlin',' Barcelona','Madrid','Lisboa','Rio de Janeiro', 'Mar del plata'] ,\n",
    "'paises': ['Argentina', 'Alemania', 'Francia', 'Suecia'], 'continentes': ['America', 'Europa','Asia','Africa']}\n",
    "print(mi_diccionario['continentes'])"
   ]
  },
  {
   "cell_type": "markdown",
   "metadata": {},
   "source": [
    "24) Imprimir las claves del diccionario"
   ]
  },
  {
   "cell_type": "code",
   "execution_count": 133,
   "metadata": {},
   "outputs": [
    {
     "name": "stdout",
     "output_type": "stream",
     "text": [
      "dict_keys(['ciudades', 'paises', 'continentes'])\n"
     ]
    }
   ],
   "source": [
    "print(mi_diccionario.keys())\n"
   ]
  },
  {
   "cell_type": "markdown",
   "metadata": {},
   "source": [
    "25) Imprimir las ciudades a través de su clave"
   ]
  },
  {
   "cell_type": "code",
   "execution_count": 136,
   "metadata": {},
   "outputs": [
    {
     "name": "stdout",
     "output_type": "stream",
     "text": [
      "['Berlin', ' Barcelona', 'Madrid', 'Lisboa', 'Rio de Janeiro', 'Mar del plata']\n"
     ]
    }
   ],
   "source": [
    "print(mi_diccionario['ciudades'])"
   ]
  }
 ],
 "metadata": {
  "kernelspec": {
   "display_name": "Python 3.10.7 64-bit",
   "language": "python",
   "name": "python3"
  },
  "language_info": {
   "codemirror_mode": {
    "name": "ipython",
    "version": 3
   },
   "file_extension": ".py",
   "mimetype": "text/x-python",
   "name": "python",
   "nbconvert_exporter": "python",
   "pygments_lexer": "ipython3",
   "version": "3.10.7"
  },
  "orig_nbformat": 4,
  "vscode": {
   "interpreter": {
    "hash": "3ef525aed409cc5a13783047c8d4d090b051bbc20387ad523d849e44a70e3fe1"
   }
  }
 },
 "nbformat": 4,
 "nbformat_minor": 2
}
